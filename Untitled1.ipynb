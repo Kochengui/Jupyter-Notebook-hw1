{
 "cells": [
  {
   "cell_type": "markdown",
   "id": "08591768",
   "metadata": {},
   "source": [
    "## Домашнее задание 1\n",
    "### Оформляйте ноутбук, используя эти советы:\n",
    "   - Номер задачи - заголовок 2\n",
    "   - Номер подзадачи - заголовок 3\n",
    "   - Предоставленные наборы данных оформляйте, как код\n",
    "\n"
   ]
  },
  {
   "cell_type": "markdown",
   "id": "bb55cf6e",
   "metadata": {},
   "source": [
    "## Домашнее задание 2\n",
    "- На складе лежат разные фрукты в разном количестве.\n",
    "  Нужно написать функцию, которая на вход принимает любое количество названий фруктов и их количество, а возвращает общее       количество фруктов на складе\n",
    " \n"
   ]
  },
  {
   "cell_type": "code",
   "execution_count": 1,
   "id": "14d81a39",
   "metadata": {},
   "outputs": [
    {
     "name": "stdout",
     "output_type": "stream",
     "text": [
      "{'apple': 5, 'banans': 6, 'potatoes': 10}\n"
     ]
    }
   ],
   "source": [
    "def calk2(**fruits) : \n",
    "    print(fruits)\n",
    "    \n",
    "calk2(apple=5, banans=6, potatoes=10)"
   ]
  },
  {
   "cell_type": "markdown",
   "id": "a24b233b",
   "metadata": {},
   "source": [
    "## Домашнее задание 3\n",
    "- Дан список с затратами на рекламу. Но в данных есть ошибки, некоторые затраты имеют отрицательную величину. Удалите такие значения из списка и посчитайте суммарные затраты\n",
    "    [100, 125, -90, 345, 655, -1, 0, 200]\n",
    "    Используйте list comprehensions\n",
    "\n"
   ]
  },
  {
   "cell_type": "code",
   "execution_count": 5,
   "id": "e0d8747e",
   "metadata": {},
   "outputs": [
    {
     "data": {
      "text/plain": [
       "1425"
      ]
     },
     "execution_count": 5,
     "metadata": {},
     "output_type": "execute_result"
    }
   ],
   "source": [
    "my_list=sum([i for i in [100, 125, -90, 345, 655, -1, 0, 200] if i >0])\n",
    "my_list"
   ]
  },
  {
   "cell_type": "markdown",
   "id": "57dc19a5",
   "metadata": {},
   "source": [
    "## Домашнее задание 4\n",
    "\n",
    "- Даны два списка.\n",
    " Дата покупки\n",
    " ['2021-09-14', '2021-12-15', '2021-09-08', '2021-12-05', '2021-10-09', '2021-09-30', '2021-12-22', '2021-11-29', '2021-12-24', '2021-11-26', '2021-10-27', '2021-12-18', '2021-11-09', '2021-11-23', '2021-09-27', '2021-10-02', '2021-12-27', '2021-09-20', '2021-12-13', '2021-11-01', '2021-11-09', '2021-12-06', '2021-12-08', '2021-10-09', '2021-10-31', '2021-09-30', '2021-11-09', '2021-12-13', '2021-10-26', '2021-12-09']\n",
    " Суммы покупок по датам\n",
    " [1270, 8413, 9028, 3703, 5739, 4095, 295, 4944, 5723, 3701, 4471, 651, 7037, 4274, 6275, 4988, 6930, 2971, 6592, 2004, 2822, 519, 3406, 2732, 5015, 2008, 316, 6333, 5700, 2887]\n",
    "   ### 4.1 Найдите, какая выручка у компании в ноябре\n",
    "   - Используйте list comprehensions\n"
   ]
  },
  {
   "cell_type": "code",
   "execution_count": 27,
   "id": "5343093b",
   "metadata": {},
   "outputs": [
    {
     "data": {
      "text/plain": [
       "['2021-09-14',\n",
       " '2021-12-15',\n",
       " '2021-09-08',\n",
       " '2021-12-05',\n",
       " '2021-10-09',\n",
       " '2021-09-30',\n",
       " '2021-12-22',\n",
       " '2021-11-29',\n",
       " '2021-12-24',\n",
       " '2021-11-26',\n",
       " '2021-10-27',\n",
       " '2021-12-18',\n",
       " '2021-11-09',\n",
       " '2021-11-23',\n",
       " '2021-09-27',\n",
       " '2021-10-02',\n",
       " '2021-12-27',\n",
       " '2021-09-20',\n",
       " '2021-12-13',\n",
       " '2021-11-01',\n",
       " '2021-11-09',\n",
       " '2021-12-06',\n",
       " '2021-12-08',\n",
       " '2021-10-09',\n",
       " '2021-10-31',\n",
       " '2021-09-30',\n",
       " '2021-11-09',\n",
       " '2021-12-13',\n",
       " '2021-10-26',\n",
       " '2021-12-09']"
      ]
     },
     "execution_count": 27,
     "metadata": {},
     "output_type": "execute_result"
    }
   ],
   "source": [
    "Purchase_date = ['2021-09-14', '2021-12-15', '2021-09-08', '2021-12-05', '2021-10-09', '2021-09-30', '2021-12-22', '2021-11-29',\n",
    "                 '2021-12-24', '2021-11-26', '2021-10-27', '2021-12-18', '2021-11-09', '2021-11-23', '2021-09-27', '2021-10-02',\n",
    "                 '2021-12-27', '2021-09-20', '2021-12-13', '2021-11-01', '2021-11-09', '2021-12-06', '2021-12-08', '2021-10-09',\n",
    "                 '2021-10-31', '2021-09-30', '2021-11-09', '2021-12-13', '2021-10-26', '2021-12-09']\n",
    "\n"
   ]
  },
  {
   "cell_type": "code",
   "execution_count": 9,
   "id": "5e545263",
   "metadata": {},
   "outputs": [],
   "source": [
    "Purchase_amounts_by_date = [1270, 8413, 9028, 3703, 5739, 4095, 295, 4944, 5723, 3701, 4471, 651, 7037, 4274, 6275, 4988, 6930,\n",
    "                            2971, 6592, 2004, 2822, 519, 3406, 2732, 5015, 2008, 316, 6333, 5700, 2887]"
   ]
  },
  {
   "cell_type": "code",
   "execution_count": 30,
   "id": "a7cd04af",
   "metadata": {},
   "outputs": [
    {
     "data": {
      "text/plain": [
       "25098"
      ]
     },
     "execution_count": 30,
     "metadata": {},
     "output_type": "execute_result"
    }
   ],
   "source": [
    "sum_by_date = sum([Purchase_amounts_by_date[i] for i in range(0,len(Purchase_date )) if '-11-' in Purchase_date[i]])\n",
    "sum_by_date\n"
   ]
  },
  {
   "cell_type": "markdown",
   "id": "cb6b64c9",
   "metadata": {},
   "source": [
    "### 4.2 Найдите выручку компании в зависимости от месяца\n",
    "### Для этого напишите функцию, которая на вход принимает список с датами и список с выручкой, а на выходе словарь, где ключи - это месяцы, а значения - это выручка.\n",
    "### Используйте аннотирование типов.\n"
   ]
  },
  {
   "cell_type": "code",
   "execution_count": 31,
   "id": "348ef622",
   "metadata": {},
   "outputs": [
    {
     "data": {
      "text/plain": [
       "{'Сентябрь': 25647, 'Октябрь': 28645, 'Ноябрь': 25098, 'Декабрь': 45452}"
      ]
     },
     "execution_count": 31,
     "metadata": {},
     "output_type": "execute_result"
    }
   ],
   "source": [
    "sum_by_09 = sum([Purchase_amounts_by_date[i] for i in range(0,len(Purchase_date )) if '-09-' in Purchase_date[i]])\n",
    "sum_by_10 = sum([Purchase_amounts_by_date[i] for i in range(0,len(Purchase_date )) if '-10-' in Purchase_date[i]])\n",
    "sum_by_11 = sum([Purchase_amounts_by_date[i] for i in range(0,len(Purchase_date )) if '-11-' in Purchase_date[i]])\n",
    "sum_by_12 = sum([Purchase_amounts_by_date[i] for i in range(0,len(Purchase_date )) if '-12-' in Purchase_date[i]])\n",
    "\n",
    "sum_by_09_12=[]\n",
    "sum_by_09_12.extend([sum_by_09,sum_by_10,sum_by_11,sum_by_12])\n",
    "\n",
    "month=['Сентябрь','Октябрь','Ноябрь','Декабрь']\n",
    "\n",
    "def merge_list(l1: list, l2: list) -> dict :\n",
    "\n",
    "    month_and_sum={}\n",
    "\n",
    "    for i in range(0,len(l1)):\n",
    "        month_and_sum[l1[i]]=l2[i]\n",
    "    return month_and_sum\n",
    "\n",
    "merge_list(month,sum_by_09_12)"
   ]
  },
  {
   "cell_type": "code",
   "execution_count": null,
   "id": "632b8eaa",
   "metadata": {},
   "outputs": [],
   "source": []
  }
 ],
 "metadata": {
  "kernelspec": {
   "display_name": "Python 3 (ipykernel)",
   "language": "python",
   "name": "python3"
  },
  "language_info": {
   "codemirror_mode": {
    "name": "ipython",
    "version": 3
   },
   "file_extension": ".py",
   "mimetype": "text/x-python",
   "name": "python",
   "nbconvert_exporter": "python",
   "pygments_lexer": "ipython3",
   "version": "3.11.3"
  }
 },
 "nbformat": 4,
 "nbformat_minor": 5
}
